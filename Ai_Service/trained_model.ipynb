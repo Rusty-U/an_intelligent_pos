{
 "cells": [
  {
   "cell_type": "code",
   "execution_count": null,
   "id": "a61b2553",
   "metadata": {},
   "outputs": [],
   "source": [
    "import numpy as np\n",
    "import pandas as pd\n",
    "from sklearn.model_selection import train_test_split, KFold, cross_val_score\n",
    "from sklearn.preprocessing import StandardScaler, LabelEncoder\n",
    "from sklearn.ensemble import RandomForestRegressor, StackingRegressor\n",
    "from sklearn.linear_model import ElasticNet\n",
    "from sklearn.metrics import r2_score, mean_absolute_error, mean_squared_error\n",
    "from xgboost import XGBRegressor\n",
    "from lightgbm import LGBMRegressor\n",
    "import optuna\n",
    "\n"
   ]
  },
  {
   "cell_type": "markdown",
   "id": "ae051c28",
   "metadata": {},
   "source": [
    "# -----------------------------\n",
    "# Dataset\n",
    "# -----------------------------"
   ]
  },
  {
   "cell_type": "code",
   "execution_count": null,
   "id": "3494a3f2",
   "metadata": {},
   "outputs": [],
   "source": [
    "df = pd.read_csv(\"sales_data_ready_dynamic.csv\")\n",
    "\n",
    "# Date features\n",
    "if \"date\" in df.columns:\n",
    "    df[\"date\"] = pd.to_datetime(df[\"date\"])\n",
    "    df[\"year\"] = df[\"date\"].dt.year\n",
    "    df[\"month\"] = df[\"date\"].dt.month\n",
    "    df[\"day\"] = df[\"date\"].dt.day\n",
    "    df[\"dayofweek\"] = df[\"date\"].dt.dayofweek\n",
    "    df.drop(columns=[\"date\"], inplace=True)\n",
    "    # Encode categorical\n",
    "for col in df.select_dtypes(include=[\"object\"]).columns:\n",
    "    if col != \"sales\":\n",
    "        le = LabelEncoder()\n",
    "        df[col] = le.fit_transform(df[col].astype(str))\n",
    "        "
   ]
  },
  {
   "cell_type": "markdown",
   "id": "e3bac5c5",
   "metadata": {},
   "source": [
    "# -----------------------------\n",
    "# Feature Engineering: Lag / Rolling\n",
    "# -----------------------------"
   ]
  },
  {
   "cell_type": "code",
   "execution_count": null,
   "id": "cd79ef34",
   "metadata": {},
   "outputs": [],
   "source": [
    "df = df.sort_values([\"year\", \"month\", \"day\"]).reset_index(drop=True)\n",
    "df[\"lag_1\"] = df[\"sales\"].shift(1).fillna(method=\"bfill\")\n",
    "df[\"lag_7\"] = df[\"sales\"].shift(7).fillna(method=\"bfill\")\n",
    "df[\"rolling_7\"] = df[\"sales\"].rolling(7, min_periods=1).mean().fillna(method=\"bfill\")\n",
    "\n",
    "X = df.drop(columns=[\"sales\"])\n",
    "y = df[\"sales\"]\n",
    "\n",
    "X_train, X_test, y_train, y_test = train_test_split(\n",
    "    X, y, test_size=0.2, random_state=42, shuffle=False\n",
    ")\n",
    "\n",
    "# Scaling\n",
    "scaler = StandardScaler()\n",
    "X_train_scaled = scaler.fit_transform(X_train)\n",
    "X_test_scaled = scaler.transform(X_test)\n"
   ]
  },
  {
   "cell_type": "markdown",
   "id": "eedd64c0",
   "metadata": {},
   "source": [
    "# -----------------------------\n",
    "# Optuna RF Tuning\n",
    "# -----------------------------"
   ]
  },
  {
   "cell_type": "code",
   "execution_count": null,
   "id": "938f2dbe",
   "metadata": {},
   "outputs": [],
   "source": [
    "def objective_rf(trial):\n",
    "    params = {\n",
    "        \"n_estimators\": trial.suggest_int(\"n_estimators\", 300, 700),\n",
    "        \"max_depth\": trial.suggest_int(\"max_depth\", 5, 12),\n",
    "        \"min_samples_split\": trial.suggest_int(\"min_samples_split\", 2, 6),\n",
    "        \"min_samples_leaf\": trial.suggest_int(\"min_samples_leaf\", 1, 4),\n",
    "        \"max_features\": trial.suggest_categorical(\"max_features\", [\"sqrt\", \"log2\", None]),\n",
    "        \"random_state\": 42,\n",
    "        \"n_jobs\": 1\n",
    "    }\n",
    "    model = RandomForestRegressor(**params)\n",
    "    score = cross_val_score(model, X_train_scaled, y_train, cv=3, scoring=\"r2\").mean()\n",
    "    return score\n",
    "\n",
    "study_rf = optuna.create_study(direction=\"maximize\")\n",
    "study_rf.optimize(objective_rf, n_trials=20)\n",
    "\n",
    "print(\"\\n✅ RF Best Hyperparameters:\", study_rf.best_params)\n",
    "rf_model = RandomForestRegressor(**study_rf.best_params, random_state=42, n_jobs=1)\n",
    "rf_model.fit(X_train_scaled, y_train)\n",
    "\n"
   ]
  },
  {
   "cell_type": "markdown",
   "id": "051078d0",
   "metadata": {},
   "source": [
    "# -----------------------------\n",
    "# XGB Model\n",
    "# -----------------------------"
   ]
  },
  {
   "cell_type": "code",
   "execution_count": null,
   "id": "09c43326",
   "metadata": {},
   "outputs": [],
   "source": [
    "xgb_model = XGBRegressor(\n",
    "    n_estimators=500,\n",
    "    learning_rate=0.05,\n",
    "    max_depth=6,\n",
    "    subsample=0.9,\n",
    "    colsample_bytree=0.8,\n",
    "    random_state=42,\n",
    "    eval_metric=\"rmse\",\n",
    "    n_jobs=1\n",
    ")\n",
    "xgb_model.fit(X_train_scaled, y_train)\n"
   ]
  },
  {
   "cell_type": "markdown",
   "id": "fef5257b",
   "metadata": {},
   "source": [
    "# -----------------------------\n",
    "# LGBM Model\n",
    "# -----------------------------"
   ]
  },
  {
   "cell_type": "code",
   "execution_count": null,
   "id": "53823125",
   "metadata": {},
   "outputs": [],
   "source": [
    "lgbm_model = LGBMRegressor(\n",
    "    n_estimators=600,\n",
    "    num_leaves=64,\n",
    "    learning_rate=0.05,\n",
    "    subsample=0.9,\n",
    "    colsample_bytree=0.8,\n",
    "    random_state=42,\n",
    "    n_jobs=1\n",
    ")\n",
    "lgbm_model.fit(X_train_scaled, y_train)\n"
   ]
  },
  {
   "cell_type": "markdown",
   "id": "9bb3944d",
   "metadata": {},
   "source": [
    "# -----------------------------\n",
    "# Optuna for ElasticNet Meta Learner\n",
    "# -----------------------------"
   ]
  },
  {
   "cell_type": "code",
   "execution_count": null,
   "id": "9f0f89e2",
   "metadata": {},
   "outputs": [],
   "source": [
    "def objective_meta(trial):\n",
    "    alpha = trial.suggest_float(\"alpha\", 0.001, 1.0, log=True)\n",
    "    l1_ratio = trial.suggest_float(\"l1_ratio\", 0.0, 1.0)\n",
    "    meta = ElasticNet(alpha=alpha, l1_ratio=l1_ratio, random_state=42, max_iter=5000)\n",
    "\n",
    "    stack_model = StackingRegressor(\n",
    "        estimators=[(\"rf\", rf_model), (\"xgb\", xgb_model), (\"lgbm\", lgbm_model)],\n",
    "        final_estimator=meta,\n",
    "        cv=3,\n",
    "        n_jobs=1\n",
    "    )\n",
    "    score = cross_val_score(stack_model, X_train_scaled, y_train, cv=3, scoring=\"r2\").mean()\n",
    "    return score\n",
    "study_meta = optuna.create_study(direction=\"maximize\")\n",
    "study_meta.optimize(objective_meta, n_trials=15)\n",
    "\n",
    "print(\"\\n✅ ElasticNet Best Hyperparameters:\", study_meta.best_params)\n",
    "\n",
    "# Final Stacking Model\n",
    "final_meta = ElasticNet(**study_meta.best_params, random_state=42, max_iter=5000)\n",
    "stack_model = StackingRegressor(\n",
    "    estimators=[(\"rf\", rf_model), (\"xgb\", xgb_model), (\"lgbm\", lgbm_model)],\n",
    "    final_estimator=final_meta,\n",
    "    cv=5,\n",
    "    n_jobs=1\n",
    ")\n",
    "stack_model.fit(X_train_scaled, y_train)\n"
   ]
  },
  {
   "cell_type": "markdown",
   "id": "937f6727",
   "metadata": {},
   "source": [
    "# -----------------------------\n",
    "# Predictions\n",
    "# -----------------------------"
   ]
  },
  {
   "cell_type": "code",
   "execution_count": null,
   "id": "1fcd17a3",
   "metadata": {},
   "outputs": [],
   "source": [
    "y_pred_train = stack_model.predict(X_train_scaled)\n",
    "y_pred_test = stack_model.predict(X_test_scaled)\n"
   ]
  },
  {
   "cell_type": "markdown",
   "id": "bec12443",
   "metadata": {},
   "source": [
    "# -----------------------------\n",
    "# Metrics\n",
    "# -----------------------------"
   ]
  },
  {
   "cell_type": "code",
   "execution_count": null,
   "id": "a1330444",
   "metadata": {},
   "outputs": [],
   "source": [
    "print(\"\\n📊 Final Ensemble Performance:\")\n",
    "print(\"Train R²:\", r2_score(y_train, y_pred_train))\n",
    "print(\"Test R² :\", r2_score(y_test, y_pred_test))\n",
    "print(\"MAE:\", mean_absolute_error(y_test, y_pred_test))\n",
    "print(\"RMSE:\", np.sqrt(mean_squared_error(y_test, y_pred_test)))\n"
   ]
  },
  {
   "cell_type": "code",
   "execution_count": null,
   "id": "2606bdc2",
   "metadata": {},
   "outputs": [],
   "source": [
    "df"
   ]
  },
  {
   "cell_type": "code",
   "execution_count": null,
   "id": "0ea93d33",
   "metadata": {},
   "outputs": [],
   "source": []
  }
 ],
 "metadata": {
  "kernelspec": {
   "display_name": "Python 3",
   "language": "python",
   "name": "python3"
  },
  "language_info": {
   "codemirror_mode": {
    "name": "ipython",
    "version": 3
   },
   "file_extension": ".py",
   "mimetype": "text/x-python",
   "name": "python",
   "nbconvert_exporter": "python",
   "pygments_lexer": "ipython3",
   "version": "3.11.9"
  }
 },
 "nbformat": 4,
 "nbformat_minor": 5
}
